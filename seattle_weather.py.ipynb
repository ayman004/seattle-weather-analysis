{
 "cells": [
  {
   "cell_type": "code",
   "execution_count": 1,
   "metadata": {},
   "outputs": [
    {
     "data": {
      "text/html": [
       "\n",
       "    <div class=\"bk-root\">\n",
       "        <a href=\"https://bokeh.pydata.org\" target=\"_blank\" class=\"bk-logo bk-logo-small bk-logo-notebook\"></a>\n",
       "        <span id=\"486cb0dd-181c-44d6-9f6c-9036f8efb623\">Loading BokehJS ...</span>\n",
       "    </div>"
      ]
     },
     "metadata": {},
     "output_type": "display_data"
    },
    {
     "data": {
      "application/javascript": [
       "\n",
       "(function(root) {\n",
       "  function now() {\n",
       "    return new Date();\n",
       "  }\n",
       "\n",
       "  var force = true;\n",
       "\n",
       "  if (typeof (root._bokeh_onload_callbacks) === \"undefined\" || force === true) {\n",
       "    root._bokeh_onload_callbacks = [];\n",
       "    root._bokeh_is_loading = undefined;\n",
       "  }\n",
       "\n",
       "  var JS_MIME_TYPE = 'application/javascript';\n",
       "  var HTML_MIME_TYPE = 'text/html';\n",
       "  var EXEC_MIME_TYPE = 'application/vnd.bokehjs_exec.v0+json';\n",
       "  var CLASS_NAME = 'output_bokeh rendered_html';\n",
       "\n",
       "  /**\n",
       "   * Render data to the DOM node\n",
       "   */\n",
       "  function render(props, node) {\n",
       "    var script = document.createElement(\"script\");\n",
       "    node.appendChild(script);\n",
       "  }\n",
       "\n",
       "  /**\n",
       "   * Handle when an output is cleared or removed\n",
       "   */\n",
       "  function handleClearOutput(event, handle) {\n",
       "    var cell = handle.cell;\n",
       "\n",
       "    var id = cell.output_area._bokeh_element_id;\n",
       "    var server_id = cell.output_area._bokeh_server_id;\n",
       "    // Clean up Bokeh references\n",
       "    if (id !== undefined) {\n",
       "      Bokeh.index[id].model.document.clear();\n",
       "      delete Bokeh.index[id];\n",
       "    }\n",
       "\n",
       "    if (server_id !== undefined) {\n",
       "      // Clean up Bokeh references\n",
       "      var cmd = \"from bokeh.io.state import curstate; print(curstate().uuid_to_server['\" + server_id + \"'].get_sessions()[0].document.roots[0]._id)\";\n",
       "      cell.notebook.kernel.execute(cmd, {\n",
       "        iopub: {\n",
       "          output: function(msg) {\n",
       "            var element_id = msg.content.text.trim();\n",
       "            Bokeh.index[element_id].model.document.clear();\n",
       "            delete Bokeh.index[element_id];\n",
       "          }\n",
       "        }\n",
       "      });\n",
       "      // Destroy server and session\n",
       "      var cmd = \"import bokeh.io.notebook as ion; ion.destroy_server('\" + server_id + \"')\";\n",
       "      cell.notebook.kernel.execute(cmd);\n",
       "    }\n",
       "  }\n",
       "\n",
       "  /**\n",
       "   * Handle when a new output is added\n",
       "   */\n",
       "  function handleAddOutput(event, handle) {\n",
       "    var output_area = handle.output_area;\n",
       "    var output = handle.output;\n",
       "\n",
       "    // limit handleAddOutput to display_data with EXEC_MIME_TYPE content only\n",
       "    if ((output.output_type != \"display_data\") || (!output.data.hasOwnProperty(EXEC_MIME_TYPE))) {\n",
       "      return\n",
       "    }\n",
       "\n",
       "    var toinsert = output_area.element.find(`.${CLASS_NAME.split(' ')[0]}`);\n",
       "\n",
       "    if (output.metadata[EXEC_MIME_TYPE][\"id\"] !== undefined) {\n",
       "      toinsert[0].firstChild.textContent = output.data[JS_MIME_TYPE];\n",
       "      // store reference to embed id on output_area\n",
       "      output_area._bokeh_element_id = output.metadata[EXEC_MIME_TYPE][\"id\"];\n",
       "    }\n",
       "    if (output.metadata[EXEC_MIME_TYPE][\"server_id\"] !== undefined) {\n",
       "      var bk_div = document.createElement(\"div\");\n",
       "      bk_div.innerHTML = output.data[HTML_MIME_TYPE];\n",
       "      var script_attrs = bk_div.children[0].attributes;\n",
       "      for (var i = 0; i < script_attrs.length; i++) {\n",
       "        toinsert[0].firstChild.setAttribute(script_attrs[i].name, script_attrs[i].value);\n",
       "      }\n",
       "      // store reference to server id on output_area\n",
       "      output_area._bokeh_server_id = output.metadata[EXEC_MIME_TYPE][\"server_id\"];\n",
       "    }\n",
       "  }\n",
       "\n",
       "  function register_renderer(events, OutputArea) {\n",
       "\n",
       "    function append_mime(data, metadata, element) {\n",
       "      // create a DOM node to render to\n",
       "      var toinsert = this.create_output_subarea(\n",
       "        metadata,\n",
       "        CLASS_NAME,\n",
       "        EXEC_MIME_TYPE\n",
       "      );\n",
       "      this.keyboard_manager.register_events(toinsert);\n",
       "      // Render to node\n",
       "      var props = {data: data, metadata: metadata[EXEC_MIME_TYPE]};\n",
       "      render(props, toinsert[0]);\n",
       "      element.append(toinsert);\n",
       "      return toinsert\n",
       "    }\n",
       "\n",
       "    /* Handle when an output is cleared or removed */\n",
       "    events.on('clear_output.CodeCell', handleClearOutput);\n",
       "    events.on('delete.Cell', handleClearOutput);\n",
       "\n",
       "    /* Handle when a new output is added */\n",
       "    events.on('output_added.OutputArea', handleAddOutput);\n",
       "\n",
       "    /**\n",
       "     * Register the mime type and append_mime function with output_area\n",
       "     */\n",
       "    OutputArea.prototype.register_mime_type(EXEC_MIME_TYPE, append_mime, {\n",
       "      /* Is output safe? */\n",
       "      safe: true,\n",
       "      /* Index of renderer in `output_area.display_order` */\n",
       "      index: 0\n",
       "    });\n",
       "  }\n",
       "\n",
       "  // register the mime type if in Jupyter Notebook environment and previously unregistered\n",
       "  if (root.Jupyter !== undefined) {\n",
       "    var events = require('base/js/events');\n",
       "    var OutputArea = require('notebook/js/outputarea').OutputArea;\n",
       "\n",
       "    if (OutputArea.prototype.mime_types().indexOf(EXEC_MIME_TYPE) == -1) {\n",
       "      register_renderer(events, OutputArea);\n",
       "    }\n",
       "  }\n",
       "\n",
       "  \n",
       "  if (typeof (root._bokeh_timeout) === \"undefined\" || force === true) {\n",
       "    root._bokeh_timeout = Date.now() + 5000;\n",
       "    root._bokeh_failed_load = false;\n",
       "  }\n",
       "\n",
       "  var NB_LOAD_WARNING = {'data': {'text/html':\n",
       "     \"<div style='background-color: #fdd'>\\n\"+\n",
       "     \"<p>\\n\"+\n",
       "     \"BokehJS does not appear to have successfully loaded. If loading BokehJS from CDN, this \\n\"+\n",
       "     \"may be due to a slow or bad network connection. Possible fixes:\\n\"+\n",
       "     \"</p>\\n\"+\n",
       "     \"<ul>\\n\"+\n",
       "     \"<li>re-rerun `output_notebook()` to attempt to load from CDN again, or</li>\\n\"+\n",
       "     \"<li>use INLINE resources instead, as so:</li>\\n\"+\n",
       "     \"</ul>\\n\"+\n",
       "     \"<code>\\n\"+\n",
       "     \"from bokeh.resources import INLINE\\n\"+\n",
       "     \"output_notebook(resources=INLINE)\\n\"+\n",
       "     \"</code>\\n\"+\n",
       "     \"</div>\"}};\n",
       "\n",
       "  function display_loaded() {\n",
       "    var el = document.getElementById(\"486cb0dd-181c-44d6-9f6c-9036f8efb623\");\n",
       "    if (el != null) {\n",
       "      el.textContent = \"BokehJS is loading...\";\n",
       "    }\n",
       "    if (root.Bokeh !== undefined) {\n",
       "      if (el != null) {\n",
       "        el.textContent = \"BokehJS \" + root.Bokeh.version + \" successfully loaded.\";\n",
       "      }\n",
       "    } else if (Date.now() < root._bokeh_timeout) {\n",
       "      setTimeout(display_loaded, 100)\n",
       "    }\n",
       "  }\n",
       "\n",
       "\n",
       "  function run_callbacks() {\n",
       "    try {\n",
       "      root._bokeh_onload_callbacks.forEach(function(callback) { callback() });\n",
       "    }\n",
       "    finally {\n",
       "      delete root._bokeh_onload_callbacks\n",
       "    }\n",
       "    console.info(\"Bokeh: all callbacks have finished\");\n",
       "  }\n",
       "\n",
       "  function load_libs(js_urls, callback) {\n",
       "    root._bokeh_onload_callbacks.push(callback);\n",
       "    if (root._bokeh_is_loading > 0) {\n",
       "      console.log(\"Bokeh: BokehJS is being loaded, scheduling callback at\", now());\n",
       "      return null;\n",
       "    }\n",
       "    if (js_urls == null || js_urls.length === 0) {\n",
       "      run_callbacks();\n",
       "      return null;\n",
       "    }\n",
       "    console.log(\"Bokeh: BokehJS not loaded, scheduling load and callback at\", now());\n",
       "    root._bokeh_is_loading = js_urls.length;\n",
       "    for (var i = 0; i < js_urls.length; i++) {\n",
       "      var url = js_urls[i];\n",
       "      var s = document.createElement('script');\n",
       "      s.src = url;\n",
       "      s.async = false;\n",
       "      s.onreadystatechange = s.onload = function() {\n",
       "        root._bokeh_is_loading--;\n",
       "        if (root._bokeh_is_loading === 0) {\n",
       "          console.log(\"Bokeh: all BokehJS libraries loaded\");\n",
       "          run_callbacks()\n",
       "        }\n",
       "      };\n",
       "      s.onerror = function() {\n",
       "        console.warn(\"failed to load library \" + url);\n",
       "      };\n",
       "      console.log(\"Bokeh: injecting script tag for BokehJS library: \", url);\n",
       "      document.getElementsByTagName(\"head\")[0].appendChild(s);\n",
       "    }\n",
       "  };var element = document.getElementById(\"486cb0dd-181c-44d6-9f6c-9036f8efb623\");\n",
       "  if (element == null) {\n",
       "    console.log(\"Bokeh: ERROR: autoload.js configured with elementid '486cb0dd-181c-44d6-9f6c-9036f8efb623' but no matching script tag was found. \")\n",
       "    return false;\n",
       "  }\n",
       "\n",
       "  var js_urls = [\"https://cdn.pydata.org/bokeh/release/bokeh-0.12.10.min.js\", \"https://cdn.pydata.org/bokeh/release/bokeh-widgets-0.12.10.min.js\", \"https://cdn.pydata.org/bokeh/release/bokeh-tables-0.12.10.min.js\", \"https://cdn.pydata.org/bokeh/release/bokeh-gl-0.12.10.min.js\"];\n",
       "\n",
       "  var inline_js = [\n",
       "    function(Bokeh) {\n",
       "      Bokeh.set_log_level(\"info\");\n",
       "    },\n",
       "    \n",
       "    function(Bokeh) {\n",
       "      \n",
       "    },\n",
       "    function(Bokeh) {\n",
       "      console.log(\"Bokeh: injecting CSS: https://cdn.pydata.org/bokeh/release/bokeh-0.12.10.min.css\");\n",
       "      Bokeh.embed.inject_css(\"https://cdn.pydata.org/bokeh/release/bokeh-0.12.10.min.css\");\n",
       "      console.log(\"Bokeh: injecting CSS: https://cdn.pydata.org/bokeh/release/bokeh-widgets-0.12.10.min.css\");\n",
       "      Bokeh.embed.inject_css(\"https://cdn.pydata.org/bokeh/release/bokeh-widgets-0.12.10.min.css\");\n",
       "      console.log(\"Bokeh: injecting CSS: https://cdn.pydata.org/bokeh/release/bokeh-tables-0.12.10.min.css\");\n",
       "      Bokeh.embed.inject_css(\"https://cdn.pydata.org/bokeh/release/bokeh-tables-0.12.10.min.css\");\n",
       "    }\n",
       "  ];\n",
       "\n",
       "  function run_inline_js() {\n",
       "    \n",
       "    if ((root.Bokeh !== undefined) || (force === true)) {\n",
       "      for (var i = 0; i < inline_js.length; i++) {\n",
       "        inline_js[i].call(root, root.Bokeh);\n",
       "      }if (force === true) {\n",
       "        display_loaded();\n",
       "      }} else if (Date.now() < root._bokeh_timeout) {\n",
       "      setTimeout(run_inline_js, 100);\n",
       "    } else if (!root._bokeh_failed_load) {\n",
       "      console.log(\"Bokeh: BokehJS failed to load within specified timeout.\");\n",
       "      root._bokeh_failed_load = true;\n",
       "    } else if (force !== true) {\n",
       "      var cell = $(document.getElementById(\"486cb0dd-181c-44d6-9f6c-9036f8efb623\")).parents('.cell').data().cell;\n",
       "      cell.output_area.append_execute_result(NB_LOAD_WARNING)\n",
       "    }\n",
       "\n",
       "  }\n",
       "\n",
       "  if (root._bokeh_is_loading === 0) {\n",
       "    console.log(\"Bokeh: BokehJS loaded, going straight to plotting\");\n",
       "    run_inline_js();\n",
       "  } else {\n",
       "    load_libs(js_urls, function() {\n",
       "      console.log(\"Bokeh: BokehJS plotting callback run at\", now());\n",
       "      run_inline_js();\n",
       "    });\n",
       "  }\n",
       "}(window));"
      ],
      "application/vnd.bokehjs_load.v0+json": "\n(function(root) {\n  function now() {\n    return new Date();\n  }\n\n  var force = true;\n\n  if (typeof (root._bokeh_onload_callbacks) === \"undefined\" || force === true) {\n    root._bokeh_onload_callbacks = [];\n    root._bokeh_is_loading = undefined;\n  }\n\n  \n\n  \n  if (typeof (root._bokeh_timeout) === \"undefined\" || force === true) {\n    root._bokeh_timeout = Date.now() + 5000;\n    root._bokeh_failed_load = false;\n  }\n\n  var NB_LOAD_WARNING = {'data': {'text/html':\n     \"<div style='background-color: #fdd'>\\n\"+\n     \"<p>\\n\"+\n     \"BokehJS does not appear to have successfully loaded. If loading BokehJS from CDN, this \\n\"+\n     \"may be due to a slow or bad network connection. Possible fixes:\\n\"+\n     \"</p>\\n\"+\n     \"<ul>\\n\"+\n     \"<li>re-rerun `output_notebook()` to attempt to load from CDN again, or</li>\\n\"+\n     \"<li>use INLINE resources instead, as so:</li>\\n\"+\n     \"</ul>\\n\"+\n     \"<code>\\n\"+\n     \"from bokeh.resources import INLINE\\n\"+\n     \"output_notebook(resources=INLINE)\\n\"+\n     \"</code>\\n\"+\n     \"</div>\"}};\n\n  function display_loaded() {\n    var el = document.getElementById(\"486cb0dd-181c-44d6-9f6c-9036f8efb623\");\n    if (el != null) {\n      el.textContent = \"BokehJS is loading...\";\n    }\n    if (root.Bokeh !== undefined) {\n      if (el != null) {\n        el.textContent = \"BokehJS \" + root.Bokeh.version + \" successfully loaded.\";\n      }\n    } else if (Date.now() < root._bokeh_timeout) {\n      setTimeout(display_loaded, 100)\n    }\n  }\n\n\n  function run_callbacks() {\n    try {\n      root._bokeh_onload_callbacks.forEach(function(callback) { callback() });\n    }\n    finally {\n      delete root._bokeh_onload_callbacks\n    }\n    console.info(\"Bokeh: all callbacks have finished\");\n  }\n\n  function load_libs(js_urls, callback) {\n    root._bokeh_onload_callbacks.push(callback);\n    if (root._bokeh_is_loading > 0) {\n      console.log(\"Bokeh: BokehJS is being loaded, scheduling callback at\", now());\n      return null;\n    }\n    if (js_urls == null || js_urls.length === 0) {\n      run_callbacks();\n      return null;\n    }\n    console.log(\"Bokeh: BokehJS not loaded, scheduling load and callback at\", now());\n    root._bokeh_is_loading = js_urls.length;\n    for (var i = 0; i < js_urls.length; i++) {\n      var url = js_urls[i];\n      var s = document.createElement('script');\n      s.src = url;\n      s.async = false;\n      s.onreadystatechange = s.onload = function() {\n        root._bokeh_is_loading--;\n        if (root._bokeh_is_loading === 0) {\n          console.log(\"Bokeh: all BokehJS libraries loaded\");\n          run_callbacks()\n        }\n      };\n      s.onerror = function() {\n        console.warn(\"failed to load library \" + url);\n      };\n      console.log(\"Bokeh: injecting script tag for BokehJS library: \", url);\n      document.getElementsByTagName(\"head\")[0].appendChild(s);\n    }\n  };var element = document.getElementById(\"486cb0dd-181c-44d6-9f6c-9036f8efb623\");\n  if (element == null) {\n    console.log(\"Bokeh: ERROR: autoload.js configured with elementid '486cb0dd-181c-44d6-9f6c-9036f8efb623' but no matching script tag was found. \")\n    return false;\n  }\n\n  var js_urls = [\"https://cdn.pydata.org/bokeh/release/bokeh-0.12.10.min.js\", \"https://cdn.pydata.org/bokeh/release/bokeh-widgets-0.12.10.min.js\", \"https://cdn.pydata.org/bokeh/release/bokeh-tables-0.12.10.min.js\", \"https://cdn.pydata.org/bokeh/release/bokeh-gl-0.12.10.min.js\"];\n\n  var inline_js = [\n    function(Bokeh) {\n      Bokeh.set_log_level(\"info\");\n    },\n    \n    function(Bokeh) {\n      \n    },\n    function(Bokeh) {\n      console.log(\"Bokeh: injecting CSS: https://cdn.pydata.org/bokeh/release/bokeh-0.12.10.min.css\");\n      Bokeh.embed.inject_css(\"https://cdn.pydata.org/bokeh/release/bokeh-0.12.10.min.css\");\n      console.log(\"Bokeh: injecting CSS: https://cdn.pydata.org/bokeh/release/bokeh-widgets-0.12.10.min.css\");\n      Bokeh.embed.inject_css(\"https://cdn.pydata.org/bokeh/release/bokeh-widgets-0.12.10.min.css\");\n      console.log(\"Bokeh: injecting CSS: https://cdn.pydata.org/bokeh/release/bokeh-tables-0.12.10.min.css\");\n      Bokeh.embed.inject_css(\"https://cdn.pydata.org/bokeh/release/bokeh-tables-0.12.10.min.css\");\n    }\n  ];\n\n  function run_inline_js() {\n    \n    if ((root.Bokeh !== undefined) || (force === true)) {\n      for (var i = 0; i < inline_js.length; i++) {\n        inline_js[i].call(root, root.Bokeh);\n      }if (force === true) {\n        display_loaded();\n      }} else if (Date.now() < root._bokeh_timeout) {\n      setTimeout(run_inline_js, 100);\n    } else if (!root._bokeh_failed_load) {\n      console.log(\"Bokeh: BokehJS failed to load within specified timeout.\");\n      root._bokeh_failed_load = true;\n    } else if (force !== true) {\n      var cell = $(document.getElementById(\"486cb0dd-181c-44d6-9f6c-9036f8efb623\")).parents('.cell').data().cell;\n      cell.output_area.append_execute_result(NB_LOAD_WARNING)\n    }\n\n  }\n\n  if (root._bokeh_is_loading === 0) {\n    console.log(\"Bokeh: BokehJS loaded, going straight to plotting\");\n    run_inline_js();\n  } else {\n    load_libs(js_urls, function() {\n      console.log(\"Bokeh: BokehJS plotting callback run at\", now());\n      run_inline_js();\n    });\n  }\n}(window));"
     },
     "metadata": {},
     "output_type": "display_data"
    }
   ],
   "source": [
    "#import the required libraries\n",
    "import pandas as pd\n",
    "import numpy as np\n",
    "import matplotlib.pyplot as plt\n",
    "import seaborn as sns\n",
    "sns.set()\n",
    "%matplotlib inline\n",
    "from bokeh.plotting import figure, output_notebook, show, ColumnDataSource\n",
    "from bokeh.models import DatetimeTickFormatter,PrintfTickFormatter,HoverTool\n",
    "output_notebook()"
   ]
  },
  {
   "cell_type": "code",
   "execution_count": 2,
   "metadata": {},
   "outputs": [],
   "source": [
    "#load the data"
   ]
  },
  {
   "cell_type": "code",
   "execution_count": 3,
   "metadata": {},
   "outputs": [],
   "source": [
    "data = pd.read_csv('seattleWeather_1948-2017.csv')"
   ]
  },
  {
   "cell_type": "code",
   "execution_count": 4,
   "metadata": {},
   "outputs": [
    {
     "name": "stdout",
     "output_type": "stream",
     "text": [
      "<class 'pandas.core.frame.DataFrame'>\n",
      "RangeIndex: 25551 entries, 0 to 25550\n",
      "Data columns (total 5 columns):\n",
      "DATE    25551 non-null object\n",
      "PRCP    25548 non-null float64\n",
      "TMAX    25551 non-null int64\n",
      "TMIN    25551 non-null int64\n",
      "RAIN    25548 non-null object\n",
      "dtypes: float64(1), int64(2), object(2)\n",
      "memory usage: 998.2+ KB\n"
     ]
    }
   ],
   "source": [
    "data.info()"
   ]
  },
  {
   "cell_type": "code",
   "execution_count": 6,
   "metadata": {},
   "outputs": [
    {
     "data": {
      "text/html": [
       "<div>\n",
       "<style>\n",
       "    .dataframe thead tr:only-child th {\n",
       "        text-align: right;\n",
       "    }\n",
       "\n",
       "    .dataframe thead th {\n",
       "        text-align: left;\n",
       "    }\n",
       "\n",
       "    .dataframe tbody tr th {\n",
       "        vertical-align: top;\n",
       "    }\n",
       "</style>\n",
       "<table border=\"1\" class=\"dataframe\">\n",
       "  <thead>\n",
       "    <tr style=\"text-align: right;\">\n",
       "      <th></th>\n",
       "      <th>PRCP</th>\n",
       "      <th>TMAX</th>\n",
       "      <th>TMIN</th>\n",
       "    </tr>\n",
       "  </thead>\n",
       "  <tbody>\n",
       "    <tr>\n",
       "      <th>count</th>\n",
       "      <td>25548.000000</td>\n",
       "      <td>25551.000000</td>\n",
       "      <td>25551.000000</td>\n",
       "    </tr>\n",
       "    <tr>\n",
       "      <th>mean</th>\n",
       "      <td>0.106222</td>\n",
       "      <td>59.544206</td>\n",
       "      <td>44.514226</td>\n",
       "    </tr>\n",
       "    <tr>\n",
       "      <th>std</th>\n",
       "      <td>0.239031</td>\n",
       "      <td>12.772984</td>\n",
       "      <td>8.892836</td>\n",
       "    </tr>\n",
       "    <tr>\n",
       "      <th>min</th>\n",
       "      <td>0.000000</td>\n",
       "      <td>4.000000</td>\n",
       "      <td>0.000000</td>\n",
       "    </tr>\n",
       "    <tr>\n",
       "      <th>25%</th>\n",
       "      <td>0.000000</td>\n",
       "      <td>50.000000</td>\n",
       "      <td>38.000000</td>\n",
       "    </tr>\n",
       "    <tr>\n",
       "      <th>50%</th>\n",
       "      <td>0.000000</td>\n",
       "      <td>58.000000</td>\n",
       "      <td>45.000000</td>\n",
       "    </tr>\n",
       "    <tr>\n",
       "      <th>75%</th>\n",
       "      <td>0.100000</td>\n",
       "      <td>69.000000</td>\n",
       "      <td>52.000000</td>\n",
       "    </tr>\n",
       "    <tr>\n",
       "      <th>max</th>\n",
       "      <td>5.020000</td>\n",
       "      <td>103.000000</td>\n",
       "      <td>71.000000</td>\n",
       "    </tr>\n",
       "  </tbody>\n",
       "</table>\n",
       "</div>"
      ],
      "text/plain": [
       "               PRCP          TMAX          TMIN\n",
       "count  25548.000000  25551.000000  25551.000000\n",
       "mean       0.106222     59.544206     44.514226\n",
       "std        0.239031     12.772984      8.892836\n",
       "min        0.000000      4.000000      0.000000\n",
       "25%        0.000000     50.000000     38.000000\n",
       "50%        0.000000     58.000000     45.000000\n",
       "75%        0.100000     69.000000     52.000000\n",
       "max        5.020000    103.000000     71.000000"
      ]
     },
     "execution_count": 6,
     "metadata": {},
     "output_type": "execute_result"
    }
   ],
   "source": [
    "#describe the data\n",
    "data.describe()"
   ]
  },
  {
   "cell_type": "code",
   "execution_count": 7,
   "metadata": {},
   "outputs": [],
   "source": [
    "#convert the 'DATE' column to datetime\n",
    "data.DATE = pd.to_datetime(data.DATE)"
   ]
  },
  {
   "cell_type": "code",
   "execution_count": 8,
   "metadata": {},
   "outputs": [
    {
     "name": "stdout",
     "output_type": "stream",
     "text": [
      "<class 'pandas.core.frame.DataFrame'>\n",
      "RangeIndex: 25551 entries, 0 to 25550\n",
      "Data columns (total 5 columns):\n",
      "DATE    25551 non-null datetime64[ns]\n",
      "PRCP    25548 non-null float64\n",
      "TMAX    25551 non-null int64\n",
      "TMIN    25551 non-null int64\n",
      "RAIN    25548 non-null object\n",
      "dtypes: datetime64[ns](1), float64(1), int64(2), object(1)\n",
      "memory usage: 998.2+ KB\n"
     ]
    }
   ],
   "source": [
    "data.info()"
   ]
  },
  {
   "cell_type": "code",
   "execution_count": 9,
   "metadata": {},
   "outputs": [
    {
     "data": {
      "text/html": [
       "<div>\n",
       "<style>\n",
       "    .dataframe thead tr:only-child th {\n",
       "        text-align: right;\n",
       "    }\n",
       "\n",
       "    .dataframe thead th {\n",
       "        text-align: left;\n",
       "    }\n",
       "\n",
       "    .dataframe tbody tr th {\n",
       "        vertical-align: top;\n",
       "    }\n",
       "</style>\n",
       "<table border=\"1\" class=\"dataframe\">\n",
       "  <thead>\n",
       "    <tr style=\"text-align: right;\">\n",
       "      <th></th>\n",
       "      <th>DATE</th>\n",
       "      <th>PRCP</th>\n",
       "      <th>TMAX</th>\n",
       "      <th>TMIN</th>\n",
       "      <th>RAIN</th>\n",
       "    </tr>\n",
       "  </thead>\n",
       "  <tbody>\n",
       "    <tr>\n",
       "      <th>0</th>\n",
       "      <td>1948-01-01</td>\n",
       "      <td>0.47</td>\n",
       "      <td>51</td>\n",
       "      <td>42</td>\n",
       "      <td>True</td>\n",
       "    </tr>\n",
       "    <tr>\n",
       "      <th>1</th>\n",
       "      <td>1948-01-02</td>\n",
       "      <td>0.59</td>\n",
       "      <td>45</td>\n",
       "      <td>36</td>\n",
       "      <td>True</td>\n",
       "    </tr>\n",
       "    <tr>\n",
       "      <th>2</th>\n",
       "      <td>1948-01-03</td>\n",
       "      <td>0.42</td>\n",
       "      <td>45</td>\n",
       "      <td>35</td>\n",
       "      <td>True</td>\n",
       "    </tr>\n",
       "    <tr>\n",
       "      <th>3</th>\n",
       "      <td>1948-01-04</td>\n",
       "      <td>0.31</td>\n",
       "      <td>45</td>\n",
       "      <td>34</td>\n",
       "      <td>True</td>\n",
       "    </tr>\n",
       "  </tbody>\n",
       "</table>\n",
       "</div>"
      ],
      "text/plain": [
       "        DATE  PRCP  TMAX  TMIN  RAIN\n",
       "0 1948-01-01  0.47    51    42  True\n",
       "1 1948-01-02  0.59    45    36  True\n",
       "2 1948-01-03  0.42    45    35  True\n",
       "3 1948-01-04  0.31    45    34  True"
      ]
     },
     "execution_count": 9,
     "metadata": {},
     "output_type": "execute_result"
    }
   ],
   "source": [
    "data[:4]"
   ]
  },
  {
   "cell_type": "code",
   "execution_count": 10,
   "metadata": {},
   "outputs": [],
   "source": [
    "#make a copy of the data to play with"
   ]
  },
  {
   "cell_type": "code",
   "execution_count": 11,
   "metadata": {},
   "outputs": [],
   "source": [
    "df = data.copy()"
   ]
  },
  {
   "cell_type": "code",
   "execution_count": 12,
   "metadata": {},
   "outputs": [],
   "source": [
    "#set the DATE column as the index"
   ]
  },
  {
   "cell_type": "code",
   "execution_count": 13,
   "metadata": {},
   "outputs": [],
   "source": [
    "df.set_index('DATE', inplace=True)"
   ]
  },
  {
   "cell_type": "code",
   "execution_count": 14,
   "metadata": {},
   "outputs": [
    {
     "data": {
      "text/html": [
       "<div>\n",
       "<style>\n",
       "    .dataframe thead tr:only-child th {\n",
       "        text-align: right;\n",
       "    }\n",
       "\n",
       "    .dataframe thead th {\n",
       "        text-align: left;\n",
       "    }\n",
       "\n",
       "    .dataframe tbody tr th {\n",
       "        vertical-align: top;\n",
       "    }\n",
       "</style>\n",
       "<table border=\"1\" class=\"dataframe\">\n",
       "  <thead>\n",
       "    <tr style=\"text-align: right;\">\n",
       "      <th></th>\n",
       "      <th>PRCP</th>\n",
       "      <th>TMAX</th>\n",
       "      <th>TMIN</th>\n",
       "      <th>RAIN</th>\n",
       "    </tr>\n",
       "    <tr>\n",
       "      <th>DATE</th>\n",
       "      <th></th>\n",
       "      <th></th>\n",
       "      <th></th>\n",
       "      <th></th>\n",
       "    </tr>\n",
       "  </thead>\n",
       "  <tbody>\n",
       "    <tr>\n",
       "      <th>1948-01-01</th>\n",
       "      <td>0.47</td>\n",
       "      <td>51</td>\n",
       "      <td>42</td>\n",
       "      <td>True</td>\n",
       "    </tr>\n",
       "    <tr>\n",
       "      <th>1948-01-02</th>\n",
       "      <td>0.59</td>\n",
       "      <td>45</td>\n",
       "      <td>36</td>\n",
       "      <td>True</td>\n",
       "    </tr>\n",
       "    <tr>\n",
       "      <th>1948-01-03</th>\n",
       "      <td>0.42</td>\n",
       "      <td>45</td>\n",
       "      <td>35</td>\n",
       "      <td>True</td>\n",
       "    </tr>\n",
       "  </tbody>\n",
       "</table>\n",
       "</div>"
      ],
      "text/plain": [
       "            PRCP  TMAX  TMIN  RAIN\n",
       "DATE                              \n",
       "1948-01-01  0.47    51    42  True\n",
       "1948-01-02  0.59    45    36  True\n",
       "1948-01-03  0.42    45    35  True"
      ]
     },
     "execution_count": 14,
     "metadata": {},
     "output_type": "execute_result"
    }
   ],
   "source": [
    "df[:3]"
   ]
  },
  {
   "cell_type": "code",
   "execution_count": 14,
   "metadata": {},
   "outputs": [],
   "source": [
    "#get the hottest day"
   ]
  },
  {
   "cell_type": "code",
   "execution_count": 15,
   "metadata": {},
   "outputs": [
    {
     "data": {
      "text/plain": [
       "DATE    2009-07-29 00:00:00\n",
       "PRCP                      0\n",
       "TMAX                    103\n",
       "TMIN                     71\n",
       "RAIN                  False\n",
       "Name: 22490, dtype: object"
      ]
     },
     "execution_count": 15,
     "metadata": {},
     "output_type": "execute_result"
    }
   ],
   "source": [
    "#method 1\n",
    "data.loc[data.TMAX.idxmax()]"
   ]
  },
  {
   "cell_type": "code",
   "execution_count": 16,
   "metadata": {},
   "outputs": [
    {
     "data": {
      "text/html": [
       "<div>\n",
       "<style>\n",
       "    .dataframe thead tr:only-child th {\n",
       "        text-align: right;\n",
       "    }\n",
       "\n",
       "    .dataframe thead th {\n",
       "        text-align: left;\n",
       "    }\n",
       "\n",
       "    .dataframe tbody tr th {\n",
       "        vertical-align: top;\n",
       "    }\n",
       "</style>\n",
       "<table border=\"1\" class=\"dataframe\">\n",
       "  <thead>\n",
       "    <tr style=\"text-align: right;\">\n",
       "      <th></th>\n",
       "      <th>DATE</th>\n",
       "      <th>PRCP</th>\n",
       "      <th>TMAX</th>\n",
       "      <th>TMIN</th>\n",
       "      <th>RAIN</th>\n",
       "    </tr>\n",
       "  </thead>\n",
       "  <tbody>\n",
       "    <tr>\n",
       "      <th>22490</th>\n",
       "      <td>2009-07-29</td>\n",
       "      <td>0.0</td>\n",
       "      <td>103</td>\n",
       "      <td>71</td>\n",
       "      <td>False</td>\n",
       "    </tr>\n",
       "  </tbody>\n",
       "</table>\n",
       "</div>"
      ],
      "text/plain": [
       "            DATE  PRCP  TMAX  TMIN   RAIN\n",
       "22490 2009-07-29   0.0   103    71  False"
      ]
     },
     "execution_count": 16,
     "metadata": {},
     "output_type": "execute_result"
    }
   ],
   "source": [
    "#method 2\n",
    "data.sort_values(by='TMAX', ascending=False)[:1]"
   ]
  },
  {
   "cell_type": "code",
   "execution_count": 17,
   "metadata": {},
   "outputs": [],
   "source": [
    "#get the coolest day"
   ]
  },
  {
   "cell_type": "code",
   "execution_count": 17,
   "metadata": {},
   "outputs": [
    {
     "data": {
      "text/plain": [
       "DATE    1951-11-20 00:00:00\n",
       "PRCP                   0.08\n",
       "TMAX                      4\n",
       "TMIN                     39\n",
       "RAIN                   True\n",
       "Name: 1419, dtype: object"
      ]
     },
     "execution_count": 17,
     "metadata": {},
     "output_type": "execute_result"
    }
   ],
   "source": [
    "data.loc[data.TMAX.idxmin()]"
   ]
  },
  {
   "cell_type": "code",
   "execution_count": 19,
   "metadata": {},
   "outputs": [
    {
     "data": {
      "text/html": [
       "<div>\n",
       "<style>\n",
       "    .dataframe thead tr:only-child th {\n",
       "        text-align: right;\n",
       "    }\n",
       "\n",
       "    .dataframe thead th {\n",
       "        text-align: left;\n",
       "    }\n",
       "\n",
       "    .dataframe tbody tr th {\n",
       "        vertical-align: top;\n",
       "    }\n",
       "</style>\n",
       "<table border=\"1\" class=\"dataframe\">\n",
       "  <thead>\n",
       "    <tr style=\"text-align: right;\">\n",
       "      <th></th>\n",
       "      <th>DATE</th>\n",
       "      <th>PRCP</th>\n",
       "      <th>TMAX</th>\n",
       "      <th>TMIN</th>\n",
       "      <th>RAIN</th>\n",
       "    </tr>\n",
       "  </thead>\n",
       "  <tbody>\n",
       "    <tr>\n",
       "      <th>1419</th>\n",
       "      <td>1951-11-20</td>\n",
       "      <td>0.08</td>\n",
       "      <td>4</td>\n",
       "      <td>39</td>\n",
       "      <td>True</td>\n",
       "    </tr>\n",
       "  </tbody>\n",
       "</table>\n",
       "</div>"
      ],
      "text/plain": [
       "           DATE  PRCP  TMAX  TMIN  RAIN\n",
       "1419 1951-11-20  0.08     4    39  True"
      ]
     },
     "execution_count": 19,
     "metadata": {},
     "output_type": "execute_result"
    }
   ],
   "source": [
    "#method 2\n",
    "data.sort_values(by='TMAX', ascending=False)[-1:]"
   ]
  },
  {
   "cell_type": "code",
   "execution_count": 19,
   "metadata": {},
   "outputs": [],
   "source": [
    "#get the year with most rain\n",
    "#method 1"
   ]
  },
  {
   "cell_type": "code",
   "execution_count": 20,
   "metadata": {},
   "outputs": [],
   "source": [
    "df['year'] = df.index.year"
   ]
  },
  {
   "cell_type": "code",
   "execution_count": 21,
   "metadata": {},
   "outputs": [],
   "source": [
    "def rain_by_year(group):\n",
    "   return group.PRCP.sum()"
   ]
  },
  {
   "cell_type": "code",
   "execution_count": 22,
   "metadata": {},
   "outputs": [
    {
     "data": {
      "text/plain": [
       "year\n",
       "1950    55.14\n",
       "1996    50.67\n",
       "1968    50.15\n",
       "1953    49.42\n",
       "2014    48.50\n",
       "2006    48.42\n",
       "1972    48.36\n",
       "2012    48.26\n",
       "2010    46.99\n",
       "1955    46.61\n",
       "dtype: float64"
      ]
     },
     "execution_count": 22,
     "metadata": {},
     "output_type": "execute_result"
    }
   ],
   "source": [
    "rain_grouped_by_year = df.groupby('year').apply(rain_by_year)\n",
    "rain_grouped_by_year.sort_values(ascending=False)[:10]"
   ]
  },
  {
   "cell_type": "code",
   "execution_count": 23,
   "metadata": {},
   "outputs": [],
   "source": [
    "rain_over_years = df.groupby('year').PRCP.sum()\n",
    "rain_over_years = rain_over_years.reset_index()"
   ]
  },
  {
   "cell_type": "code",
   "execution_count": 24,
   "metadata": {},
   "outputs": [
    {
     "data": {
      "text/html": [
       "\n",
       "<div class=\"bk-root\">\n",
       "    <div class=\"bk-plotdiv\" id=\"0379fac9-3cc3-4a1c-a4a5-3054cd2c095d\"></div>\n",
       "</div>"
      ]
     },
     "metadata": {},
     "output_type": "display_data"
    },
    {
     "data": {
      "application/javascript": [
       "(function(root) {\n",
       "  function embed_document(root) {\n",
       "    var docs_json = {\"ee14713a-37aa-45a5-8a46-e776324d13e3\":{\"roots\":{\"references\":[{\"attributes\":{},\"id\":\"c767161a-2903-4648-a2d0-96a64ccc413e\",\"type\":\"LinearScale\"},{\"attributes\":{\"below\":[{\"id\":\"b859f166-0fdb-4ff1-89ad-2d0eed0c706b\",\"type\":\"LinearAxis\"}],\"left\":[{\"id\":\"72b4e3de-6092-4b7f-8a47-13dca8791b5d\",\"type\":\"LinearAxis\"}],\"plot_height\":400,\"plot_width\":900,\"renderers\":[{\"id\":\"b859f166-0fdb-4ff1-89ad-2d0eed0c706b\",\"type\":\"LinearAxis\"},{\"id\":\"0e557ab6-a31c-40ef-880a-a4cd61e5794a\",\"type\":\"Grid\"},{\"id\":\"72b4e3de-6092-4b7f-8a47-13dca8791b5d\",\"type\":\"LinearAxis\"},{\"id\":\"70b84d59-9c5a-484e-8c86-6fa2a5c69f96\",\"type\":\"Grid\"},{\"id\":\"418fb043-26ed-49ae-91bd-d0a5b266c78b\",\"type\":\"GlyphRenderer\"}],\"title\":{\"id\":\"a622bf93-8adb-47e3-a796-c7aa358d5278\",\"type\":\"Title\"},\"toolbar\":{\"id\":\"baa9015a-81cf-4db1-a026-d01056f0c8e4\",\"type\":\"Toolbar\"},\"x_range\":{\"id\":\"7278a7d1-9f92-4db4-a665-0142918ce2ce\",\"type\":\"DataRange1d\"},\"x_scale\":{\"id\":\"c767161a-2903-4648-a2d0-96a64ccc413e\",\"type\":\"LinearScale\"},\"y_range\":{\"id\":\"ef0b46b8-314f-42ce-911a-6df6ed4f5708\",\"type\":\"DataRange1d\"},\"y_scale\":{\"id\":\"47f45c2c-5221-4e96-8eae-0e934e9bc1e3\",\"type\":\"LinearScale\"}},\"id\":\"6d9def5f-d0de-45c8-8fbc-f1ccf02ca25d\",\"subtype\":\"Figure\",\"type\":\"Plot\"},{\"attributes\":{\"dimension\":1,\"plot\":{\"id\":\"6d9def5f-d0de-45c8-8fbc-f1ccf02ca25d\",\"subtype\":\"Figure\",\"type\":\"Plot\"},\"ticker\":{\"id\":\"5200ac77-5d14-4674-a037-865b9977f5f8\",\"type\":\"BasicTicker\"}},\"id\":\"70b84d59-9c5a-484e-8c86-6fa2a5c69f96\",\"type\":\"Grid\"},{\"attributes\":{\"callback\":null,\"column_names\":[\"PRCP\",\"index\",\"year\"],\"data\":{\"PRCP\":{\"__ndarray__\":\"hutRuB7lRkB7FK5H4TpAQFq4HoXrkUtAa2ZmZmYmREBI4XoUrsc3QP0oXI/CtUhAwfUoXI+iRECwR+F6FE5HQMzMzMzMbEJAcj0K16NQQUB1PQrXo1BFQMH1KFyPQkdAoXA9CtejQ0CpcD0K10NFQITrUbge5UFAWo/C9ShcQ0DsUbgehatEQEnhehSux0BAPwrXo3AdQ0AL16NwPcpBQDYzMzMzE0lAPQrXo3DdQEAVrkfherRCQH0UrkfhmkVAqkfhehQuSECE61G4HoVBQJDC9Shc70JAPQrXo3A9RkA0MzMzM7M6QOxRuB6Fa0BAH4XrUbj+QEDfehSuRyFAQM/MzMzMzEFANTMzMzOzQUApXI/C9ahDQNmjcD0Kd0RAIoXrUbh+QkDkehSuRyE5QO1RuB6FK0NAsUfhehTuPUA+CtejcH1AQLYehetRWEFAAwAAAABgRkD2KFyPwrVBQKRwPQrXY0BAz8zMzMzMPEAoXI/C9WhBQMzMzMzMTEVA8yhcj8JVSUDkehSuR6FFQEjhehSuB0ZArkfhehQORUAqXI/C9ag8QEnhehSux0JAXo/C9ShcP0ClcD0K1+NEQJmZmZmZGT9Auh6F61G4QUD0KFyPwjVIQJyZmZmZeUNAeRSuR+G6PkC6HoXrUThDQCOF61G4fkdAVbgehesxQkDmehSuRyFIQEnhehSuR0BAAAAAAABASEAK16NwPWpGQNujcD0Kl0ZAZ2ZmZmbGRUA=\",\"dtype\":\"float64\",\"shape\":[70]},\"index\":[0,1,2,3,4,5,6,7,8,9,10,11,12,13,14,15,16,17,18,19,20,21,22,23,24,25,26,27,28,29,30,31,32,33,34,35,36,37,38,39,40,41,42,43,44,45,46,47,48,49,50,51,52,53,54,55,56,57,58,59,60,61,62,63,64,65,66,67,68,69],\"year\":[1948,1949,1950,1951,1952,1953,1954,1955,1956,1957,1958,1959,1960,1961,1962,1963,1964,1965,1966,1967,1968,1969,1970,1971,1972,1973,1974,1975,1976,1977,1978,1979,1980,1981,1982,1983,1984,1985,1986,1987,1988,1989,1990,1991,1992,1993,1994,1995,1996,1997,1998,1999,2000,2001,2002,2003,2004,2005,2006,2007,2008,2009,2010,2011,2012,2013,2014,2015,2016,2017]}},\"id\":\"67a5fb5d-4397-43c2-bdeb-d39d9dfbd9d4\",\"type\":\"ColumnDataSource\"},{\"attributes\":{\"plot\":{\"id\":\"6d9def5f-d0de-45c8-8fbc-f1ccf02ca25d\",\"subtype\":\"Figure\",\"type\":\"Plot\"},\"ticker\":{\"id\":\"da470da2-532b-4ea2-971b-9690ae104373\",\"type\":\"BasicTicker\"}},\"id\":\"0e557ab6-a31c-40ef-880a-a4cd61e5794a\",\"type\":\"Grid\"},{\"attributes\":{\"axis_label\":\"PRCP\",\"formatter\":{\"id\":\"8233e53c-32ce-4c2b-8c1c-9981ed6f23f4\",\"type\":\"BasicTickFormatter\"},\"plot\":{\"id\":\"6d9def5f-d0de-45c8-8fbc-f1ccf02ca25d\",\"subtype\":\"Figure\",\"type\":\"Plot\"},\"ticker\":{\"id\":\"5200ac77-5d14-4674-a037-865b9977f5f8\",\"type\":\"BasicTicker\"}},\"id\":\"72b4e3de-6092-4b7f-8a47-13dca8791b5d\",\"type\":\"LinearAxis\"},{\"attributes\":{\"source\":{\"id\":\"67a5fb5d-4397-43c2-bdeb-d39d9dfbd9d4\",\"type\":\"ColumnDataSource\"}},\"id\":\"2e1576af-b99f-497b-84c5-972266b613d1\",\"type\":\"CDSView\"},{\"attributes\":{},\"id\":\"8233e53c-32ce-4c2b-8c1c-9981ed6f23f4\",\"type\":\"BasicTickFormatter\"},{\"attributes\":{\"callback\":null},\"id\":\"ef0b46b8-314f-42ce-911a-6df6ed4f5708\",\"type\":\"DataRange1d\"},{\"attributes\":{},\"id\":\"da470da2-532b-4ea2-971b-9690ae104373\",\"type\":\"BasicTicker\"},{\"attributes\":{\"active_drag\":\"auto\",\"active_inspect\":\"auto\",\"active_scroll\":\"auto\",\"active_tap\":\"auto\",\"tools\":[{\"id\":\"7286769a-d43d-4094-aa93-62a2c98d2f7a\",\"type\":\"HoverTool\"}]},\"id\":\"baa9015a-81cf-4db1-a026-d01056f0c8e4\",\"type\":\"Toolbar\"},{\"attributes\":{},\"id\":\"8d686412-5196-4eb3-b2a3-16d369cd3cd0\",\"type\":\"BasicTickFormatter\"},{\"attributes\":{\"plot\":null,\"text\":\"Total Rain Over The Years\"},\"id\":\"a622bf93-8adb-47e3-a796-c7aa358d5278\",\"type\":\"Title\"},{\"attributes\":{\"line_color\":{\"value\":\"#1f77b4\"},\"x\":{\"field\":\"year\"},\"y\":{\"field\":\"PRCP\"}},\"id\":\"a13065f5-b173-44e2-b33d-26df34c66dea\",\"type\":\"Line\"},{\"attributes\":{},\"id\":\"47f45c2c-5221-4e96-8eae-0e934e9bc1e3\",\"type\":\"LinearScale\"},{\"attributes\":{\"callback\":null,\"tooltips\":[[\"Year\",\"@year\"],[\"PRCP\",\"@PRCP\"]]},\"id\":\"7286769a-d43d-4094-aa93-62a2c98d2f7a\",\"type\":\"HoverTool\"},{\"attributes\":{\"data_source\":{\"id\":\"67a5fb5d-4397-43c2-bdeb-d39d9dfbd9d4\",\"type\":\"ColumnDataSource\"},\"glyph\":{\"id\":\"a13065f5-b173-44e2-b33d-26df34c66dea\",\"type\":\"Line\"},\"hover_glyph\":null,\"muted_glyph\":null,\"nonselection_glyph\":{\"id\":\"c2030cf5-f2ec-4bc2-a416-9c13fb309b32\",\"type\":\"Line\"},\"selection_glyph\":null,\"view\":{\"id\":\"2e1576af-b99f-497b-84c5-972266b613d1\",\"type\":\"CDSView\"}},\"id\":\"418fb043-26ed-49ae-91bd-d0a5b266c78b\",\"type\":\"GlyphRenderer\"},{\"attributes\":{},\"id\":\"5200ac77-5d14-4674-a037-865b9977f5f8\",\"type\":\"BasicTicker\"},{\"attributes\":{\"axis_label\":\"Years\",\"formatter\":{\"id\":\"8d686412-5196-4eb3-b2a3-16d369cd3cd0\",\"type\":\"BasicTickFormatter\"},\"plot\":{\"id\":\"6d9def5f-d0de-45c8-8fbc-f1ccf02ca25d\",\"subtype\":\"Figure\",\"type\":\"Plot\"},\"ticker\":{\"id\":\"da470da2-532b-4ea2-971b-9690ae104373\",\"type\":\"BasicTicker\"}},\"id\":\"b859f166-0fdb-4ff1-89ad-2d0eed0c706b\",\"type\":\"LinearAxis\"},{\"attributes\":{\"line_alpha\":{\"value\":0.1},\"line_color\":{\"value\":\"#1f77b4\"},\"x\":{\"field\":\"year\"},\"y\":{\"field\":\"PRCP\"}},\"id\":\"c2030cf5-f2ec-4bc2-a416-9c13fb309b32\",\"type\":\"Line\"},{\"attributes\":{\"callback\":null},\"id\":\"7278a7d1-9f92-4db4-a665-0142918ce2ce\",\"type\":\"DataRange1d\"}],\"root_ids\":[\"6d9def5f-d0de-45c8-8fbc-f1ccf02ca25d\"]},\"title\":\"Bokeh Application\",\"version\":\"0.12.10\"}};\n",
       "    var render_items = [{\"docid\":\"ee14713a-37aa-45a5-8a46-e776324d13e3\",\"elementid\":\"0379fac9-3cc3-4a1c-a4a5-3054cd2c095d\",\"modelid\":\"6d9def5f-d0de-45c8-8fbc-f1ccf02ca25d\"}];\n",
       "\n",
       "    root.Bokeh.embed.embed_items(docs_json, render_items);\n",
       "  }\n",
       "\n",
       "  if (root.Bokeh !== undefined) {\n",
       "    embed_document(root);\n",
       "  } else {\n",
       "    var attempts = 0;\n",
       "    var timer = setInterval(function(root) {\n",
       "      if (root.Bokeh !== undefined) {\n",
       "        embed_document(root);\n",
       "        clearInterval(timer);\n",
       "      }\n",
       "      attempts++;\n",
       "      if (attempts > 100) {\n",
       "        console.log(\"Bokeh: ERROR: Unable to embed document because BokehJS library is missing\")\n",
       "        clearInterval(timer);\n",
       "      }\n",
       "    }, 10, root)\n",
       "  }\n",
       "})(window);"
      ],
      "application/vnd.bokehjs_exec.v0+json": ""
     },
     "metadata": {
      "application/vnd.bokehjs_exec.v0+json": {
       "id": "6d9def5f-d0de-45c8-8fbc-f1ccf02ca25d"
      }
     },
     "output_type": "display_data"
    },
    {
     "data": {
      "text/plain": [
       "<matplotlib.axes._subplots.AxesSubplot at 0x2750c93bd68>"
      ]
     },
     "execution_count": 24,
     "metadata": {},
     "output_type": "execute_result"
    },
    {
     "data": {
      "image/png": "[encoded data removed]",
      "text/plain": [
       "<matplotlib.figure.Figure at 0x2750c008278>"
      ]
     },
     "metadata": {},
     "output_type": "display_data"
    }
   ],
   "source": [
    "source = ColumnDataSource(data=rain_over_years)\n",
    "hover = HoverTool(tooltips=[\n",
    "    (\"Year\", \"@year\"),\n",
    "    (\"PRCP\", \"@PRCP\")\n",
    "])\n",
    "p = figure(plot_width=900, plot_height=400, tools=[hover], title='Total Rain Over The Years')\n",
    "p.xaxis.axis_label = 'Years'\n",
    "p.yaxis.axis_label = 'PRCP'\n",
    "p.title_location ='above'\n",
    "p.line(x='year', y='PRCP',source=source)\n",
    "show(p)\n",
    "fig, ax = plt.subplots(figsize=(16, 6))\n",
    "ax.set(ylabel='Total Rain')\n",
    "rain_over_years.set_index('year').plot(ax=ax, title='Rain Over The Years')\n"
   ]
  },
  {
   "cell_type": "code",
   "execution_count": 26,
   "metadata": {},
   "outputs": [
    {
     "data": {
      "text/html": [
       "<div>\n",
       "<style>\n",
       "    .dataframe thead tr:only-child th {\n",
       "        text-align: right;\n",
       "    }\n",
       "\n",
       "    .dataframe thead th {\n",
       "        text-align: left;\n",
       "    }\n",
       "\n",
       "    .dataframe tbody tr th {\n",
       "        vertical-align: top;\n",
       "    }\n",
       "</style>\n",
       "<table border=\"1\" class=\"dataframe\">\n",
       "  <thead>\n",
       "    <tr style=\"text-align: right;\">\n",
       "      <th></th>\n",
       "      <th>DATE</th>\n",
       "      <th>PRCP</th>\n",
       "    </tr>\n",
       "  </thead>\n",
       "  <tbody>\n",
       "    <tr>\n",
       "      <th>2</th>\n",
       "      <td>1950</td>\n",
       "      <td>55.14</td>\n",
       "    </tr>\n",
       "    <tr>\n",
       "      <th>48</th>\n",
       "      <td>1996</td>\n",
       "      <td>50.67</td>\n",
       "    </tr>\n",
       "    <tr>\n",
       "      <th>20</th>\n",
       "      <td>1968</td>\n",
       "      <td>50.15</td>\n",
       "    </tr>\n",
       "    <tr>\n",
       "      <th>5</th>\n",
       "      <td>1953</td>\n",
       "      <td>49.42</td>\n",
       "    </tr>\n",
       "    <tr>\n",
       "      <th>66</th>\n",
       "      <td>2014</td>\n",
       "      <td>48.50</td>\n",
       "    </tr>\n",
       "    <tr>\n",
       "      <th>58</th>\n",
       "      <td>2006</td>\n",
       "      <td>48.42</td>\n",
       "    </tr>\n",
       "    <tr>\n",
       "      <th>24</th>\n",
       "      <td>1972</td>\n",
       "      <td>48.36</td>\n",
       "    </tr>\n",
       "    <tr>\n",
       "      <th>64</th>\n",
       "      <td>2012</td>\n",
       "      <td>48.26</td>\n",
       "    </tr>\n",
       "    <tr>\n",
       "      <th>62</th>\n",
       "      <td>2010</td>\n",
       "      <td>46.99</td>\n",
       "    </tr>\n",
       "    <tr>\n",
       "      <th>7</th>\n",
       "      <td>1955</td>\n",
       "      <td>46.61</td>\n",
       "    </tr>\n",
       "  </tbody>\n",
       "</table>\n",
       "</div>"
      ],
      "text/plain": [
       "   DATE   PRCP\n",
       "2  1950  55.14\n",
       "48 1996  50.67\n",
       "20 1968  50.15\n",
       "5  1953  49.42\n",
       "66 2014  48.50\n",
       "58 2006  48.42\n",
       "24 1972  48.36\n",
       "64 2012  48.26\n",
       "62 2010  46.99\n",
       "7  1955  46.61"
      ]
     },
     "execution_count": 26,
     "metadata": {},
     "output_type": "execute_result"
    }
   ],
   "source": [
    "#method 2\n",
    "#more easy than method 1\n",
    "df.resample('A-DEC',kind='period')['PRCP'].sum().reset_index().sort_values(by='PRCP', ascending=False)[:10]"
   ]
  },
  {
   "cell_type": "code",
   "execution_count": 27,
   "metadata": {},
   "outputs": [
    {
     "data": {
      "text/plain": [
       "55.140000000000001"
      ]
     },
     "execution_count": 27,
     "metadata": {},
     "output_type": "execute_result"
    }
   ],
   "source": [
    "#From our figure 1950 is the year with the most rain\n",
    "#Lets check that\n",
    "#1950 is the year with the most rain\n",
    "df[df.year == 1950].PRCP.sum()"
   ]
  },
  {
   "cell_type": "code",
   "execution_count": 28,
   "metadata": {},
   "outputs": [
    {
     "data": {
      "text/plain": [
       "23.780000000000001"
      ]
     },
     "execution_count": 28,
     "metadata": {},
     "output_type": "execute_result"
    }
   ],
   "source": [
    "#1952 is the year with the least rain\n",
    "df[df.year == 1952].PRCP.sum()"
   ]
  },
  {
   "cell_type": "code",
   "execution_count": 26,
   "metadata": {},
   "outputs": [],
   "source": [
    "#create a month column\n",
    "df['month'] = df.index.month"
   ]
  },
  {
   "cell_type": "code",
   "execution_count": 27,
   "metadata": {},
   "outputs": [],
   "source": [
    "#get the month of every year with the most rain\n",
    "all_years = []"
   ]
  },
  {
   "cell_type": "code",
   "execution_count": 28,
   "metadata": {},
   "outputs": [],
   "source": [
    "for yr in range(1948,2017):\n",
    "    wanted = df[df.index.year == yr]\n",
    "    all_years.append(wanted.groupby(['year','month']).PRCP.sum().reset_index().sort_values(by='PRCP', ascending=False)[:1])"
   ]
  },
  {
   "cell_type": "code",
   "execution_count": 29,
   "metadata": {},
   "outputs": [],
   "source": [
    "rain_by_year_and_month = pd.concat([x for x in all_years])"
   ]
  },
  {
   "cell_type": "code",
   "execution_count": 30,
   "metadata": {},
   "outputs": [
    {
     "data": {
      "text/html": [
       "<div>\n",
       "<style>\n",
       "    .dataframe thead tr:only-child th {\n",
       "        text-align: right;\n",
       "    }\n",
       "\n",
       "    .dataframe thead th {\n",
       "        text-align: left;\n",
       "    }\n",
       "\n",
       "    .dataframe tbody tr th {\n",
       "        vertical-align: top;\n",
       "    }\n",
       "</style>\n",
       "<table border=\"1\" class=\"dataframe\">\n",
       "  <thead>\n",
       "    <tr style=\"text-align: right;\">\n",
       "      <th></th>\n",
       "      <th>year</th>\n",
       "      <th>month</th>\n",
       "      <th>PRCP</th>\n",
       "    </tr>\n",
       "  </thead>\n",
       "  <tbody>\n",
       "    <tr>\n",
       "      <th>10</th>\n",
       "      <td>2006</td>\n",
       "      <td>11</td>\n",
       "      <td>15.63</td>\n",
       "    </tr>\n",
       "    <tr>\n",
       "      <th>0</th>\n",
       "      <td>1953</td>\n",
       "      <td>1</td>\n",
       "      <td>12.92</td>\n",
       "    </tr>\n",
       "    <tr>\n",
       "      <th>11</th>\n",
       "      <td>1979</td>\n",
       "      <td>12</td>\n",
       "      <td>11.85</td>\n",
       "    </tr>\n",
       "    <tr>\n",
       "      <th>10</th>\n",
       "      <td>1998</td>\n",
       "      <td>11</td>\n",
       "      <td>11.62</td>\n",
       "    </tr>\n",
       "    <tr>\n",
       "      <th>11</th>\n",
       "      <td>2015</td>\n",
       "      <td>12</td>\n",
       "      <td>11.21</td>\n",
       "    </tr>\n",
       "    <tr>\n",
       "      <th>10</th>\n",
       "      <td>1990</td>\n",
       "      <td>11</td>\n",
       "      <td>10.71</td>\n",
       "    </tr>\n",
       "    <tr>\n",
       "      <th>10</th>\n",
       "      <td>1995</td>\n",
       "      <td>11</td>\n",
       "      <td>10.40</td>\n",
       "    </tr>\n",
       "    <tr>\n",
       "      <th>11</th>\n",
       "      <td>1996</td>\n",
       "      <td>12</td>\n",
       "      <td>10.18</td>\n",
       "    </tr>\n",
       "    <tr>\n",
       "      <th>9</th>\n",
       "      <td>2016</td>\n",
       "      <td>10</td>\n",
       "      <td>10.05</td>\n",
       "    </tr>\n",
       "    <tr>\n",
       "      <th>0</th>\n",
       "      <td>1964</td>\n",
       "      <td>1</td>\n",
       "      <td>9.76</td>\n",
       "    </tr>\n",
       "  </tbody>\n",
       "</table>\n",
       "</div>"
      ],
      "text/plain": [
       "    year  month   PRCP\n",
       "10  2006     11  15.63\n",
       "0   1953      1  12.92\n",
       "11  1979     12  11.85\n",
       "10  1998     11  11.62\n",
       "11  2015     12  11.21\n",
       "10  1990     11  10.71\n",
       "10  1995     11  10.40\n",
       "11  1996     12  10.18\n",
       "9   2016     10  10.05\n",
       "0   1964      1   9.76"
      ]
     },
     "execution_count": 30,
     "metadata": {},
     "output_type": "execute_result"
    }
   ],
   "source": [
    "rain_by_year_and_month.sort_values(by='PRCP', ascending=False)[:10]"
   ]
  },
  {
   "cell_type": "code",
   "execution_count": 31,
   "metadata": {},
   "outputs": [
    {
     "data": {
      "text/html": [
       "\n",
       "<div class=\"bk-root\">\n",
       "    <div class=\"bk-plotdiv\" id=\"c35f8189-2ee9-4092-b021-9177f1414dfd\"></div>\n",
       "</div>"
      ]
     },
     "metadata": {},
     "output_type": "display_data"
    },
    {
     "data": {
      "application/javascript": [
       "(function(root) {\n",
       "  function embed_document(root) {\n",
       "    var docs_json = {\"649a5858-3140-47b3-8c1c-d04840e8723c\":{\"roots\":{\"references\":[{\"attributes\":{},\"id\":\"7a3cdf51-3bcd-406b-a826-79754c85b061\",\"type\":\"BasicTickFormatter\"},{\"attributes\":{\"axis_label\":\"PRCP\",\"formatter\":{\"id\":\"e2d35d25-3e55-44f3-aa00-182d7ce73e7a\",\"type\":\"BasicTickFormatter\"},\"plot\":{\"id\":\"89c73f7a-60eb-47c9-8651-5dbfb48fa97a\",\"subtype\":\"Figure\",\"type\":\"Plot\"},\"ticker\":{\"id\":\"5d26a619-58d8-4c2a-9238-86c685a3046c\",\"type\":\"BasicTicker\"}},\"id\":\"9d39bfb9-96f1-4ca7-a30f-2d9f8efd9733\",\"type\":\"LinearAxis\"},{\"attributes\":{\"active_drag\":\"auto\",\"active_inspect\":\"auto\",\"active_scroll\":\"auto\",\"active_tap\":\"auto\",\"tools\":[{\"id\":\"562993be-052a-43e1-a653-f44aca4e6547\",\"type\":\"HoverTool\"}]},\"id\":\"1b214f81-04e4-4e76-a524-008cc6a49260\",\"type\":\"Toolbar\"},{\"attributes\":{},\"id\":\"e2d35d25-3e55-44f3-aa00-182d7ce73e7a\",\"type\":\"BasicTickFormatter\"},{\"attributes\":{\"plot\":null,\"text\":\"Months with the most rain\"},\"id\":\"d85432aa-0346-4dd1-9a14-cbd8819d2444\",\"type\":\"Title\"},{\"attributes\":{\"callback\":null,\"tooltips\":[[\"Year\",\"@year\"],[\"Month\",\"@month\"],[\"PRCP\",\"@PRCP\"]]},\"id\":\"562993be-052a-43e1-a653-f44aca4e6547\",\"type\":\"HoverTool\"},{\"attributes\":{\"callback\":null},\"id\":\"aa68adf6-b492-4bab-8d9a-1740ac8294e3\",\"type\":\"DataRange1d\"},{\"attributes\":{},\"id\":\"ede6b977-51ca-494c-a085-de174d473069\",\"type\":\"LinearScale\"},{\"attributes\":{\"axis_label\":\"Years\",\"formatter\":{\"id\":\"7a3cdf51-3bcd-406b-a826-79754c85b061\",\"type\":\"BasicTickFormatter\"},\"plot\":{\"id\":\"89c73f7a-60eb-47c9-8651-5dbfb48fa97a\",\"subtype\":\"Figure\",\"type\":\"Plot\"},\"ticker\":{\"id\":\"ee189068-e863-4032-8ec0-0d4ad5a3bbfe\",\"type\":\"BasicTicker\"}},\"id\":\"a906b56a-9acf-4fb0-a63e-60b37991dfd0\",\"type\":\"LinearAxis\"},{\"attributes\":{\"dimension\":1,\"plot\":{\"id\":\"89c73f7a-60eb-47c9-8651-5dbfb48fa97a\",\"subtype\":\"Figure\",\"type\":\"Plot\"},\"ticker\":{\"id\":\"5d26a619-58d8-4c2a-9238-86c685a3046c\",\"type\":\"BasicTicker\"}},\"id\":\"de00e93b-9a69-482d-9617-4e78bf7f74eb\",\"type\":\"Grid\"},{\"attributes\":{\"data_source\":{\"id\":\"5c6452b7-a414-4b24-9b72-ea7899817681\",\"type\":\"ColumnDataSource\"},\"glyph\":{\"id\":\"fead8e56-b36f-4dca-8c5f-572711125f60\",\"type\":\"Line\"},\"hover_glyph\":null,\"muted_glyph\":null,\"nonselection_glyph\":{\"id\":\"59355d5f-55d4-474d-af88-68d394cda172\",\"type\":\"Line\"},\"selection_glyph\":null,\"view\":{\"id\":\"cc131b89-77a8-4c8b-a885-28ceaa26b621\",\"type\":\"CDSView\"}},\"id\":\"d691139e-879c-4682-9734-710f9a2acf4b\",\"type\":\"GlyphRenderer\"},{\"attributes\":{\"callback\":null,\"column_names\":[\"PRCP\",\"index\",\"year\",\"month\"],\"data\":{\"PRCP\":{\"__ndarray__\":\"hetRuB6FGEAfhetRuB4bQFK4HoXr0SFAhetRuB6FIUATrkfhehQUQNmjcD0K1ylAth6F61G4IEABAAAAAAAjQNajcD0KVyFACtejcD0KGUBwPQrXo3AhQEjhehSuRyBAjsL1KFwPIEC4HoXrUTgiQK5H4XoUriJA4noUrkdhI0CF61G4HoUjQGdmZmZmZhxAHoXrUbieIECjcD0K16MiQJiZmZmZGSFA1qNwPQrXFkCPwvUoXI8gQHkUrkfhehxA9Shcj8L1IUApXI/C9aggQB6F61G4Hh9AAgAAAAAAH0AzMzMzMzMWQOF6FK5H4RlAMzMzMzMzGEAzMzMzM7MnQI7C9Shcjx1AmpmZmZmZGUBI4XoUrkceQOF6FK5H4R9ArkfhehQuIED1KFyPwvUWQBSuR+F6FCFAcD0K16NwGEBej8L1KNwgQIXrUbgehRhA6lG4HoVrJUAghetRuB4aQEjhehSuRx9AMzMzMzMzE0DNzMzMzEwgQM3MzMzMzCRAXY/C9ShcJEDNzMzMzEwgQD8K16NwPSdANTMzMzMzI0AAAAAAAAAVQITrUbgehSJA7FG4HoXrF0DsUbgeheshQHA9CtejcBlAZWZmZmZmG0DB9Shcj0IvQChcj8L1KCJAEq5H4XoUGkDrUbgeheshQOB6FK5HYSFAKVyPwvUoGUCPwvUoXI8gQK5H4XoUrhhA4XoUrkfhIkDrUbgehWsmQJmZmZmZGSRA\",\"dtype\":\"float64\",\"shape\":[69]},\"index\":[11,10,0,1,11,0,0,11,0,2,0,10,10,1,10,10,0,11,11,0,11,0,11,2,11,11,0,9,0,11,10,11,11,9,1,10,10,9,0,11,10,10,10,3,0,2,11,10,11,2,10,10,1,10,0,9,0,11,10,11,10,10,11,2,10,8,2,11,9],\"month\":[12,11,1,2,12,1,1,12,1,3,1,11,11,2,11,11,1,12,12,1,12,1,12,3,12,12,1,10,1,12,11,12,12,10,2,11,11,10,1,12,11,11,11,4,1,3,12,11,12,3,11,11,2,11,1,10,1,12,11,12,11,11,12,3,11,9,3,12,10],\"year\":[1948,1949,1950,1951,1952,1953,1954,1955,1956,1957,1958,1959,1960,1961,1962,1963,1964,1965,1966,1967,1968,1969,1970,1971,1972,1973,1974,1975,1976,1977,1978,1979,1980,1981,1982,1983,1984,1985,1986,1987,1988,1989,1990,1991,1992,1993,1994,1995,1996,1997,1998,1999,2000,2001,2002,2003,2004,2005,2006,2007,2008,2009,2010,2011,2012,2013,2014,2015,2016]}},\"id\":\"5c6452b7-a414-4b24-9b72-ea7899817681\",\"type\":\"ColumnDataSource\"},{\"attributes\":{\"source\":{\"id\":\"5c6452b7-a414-4b24-9b72-ea7899817681\",\"type\":\"ColumnDataSource\"}},\"id\":\"cc131b89-77a8-4c8b-a885-28ceaa26b621\",\"type\":\"CDSView\"},{\"attributes\":{\"plot\":{\"id\":\"89c73f7a-60eb-47c9-8651-5dbfb48fa97a\",\"subtype\":\"Figure\",\"type\":\"Plot\"},\"ticker\":{\"id\":\"ee189068-e863-4032-8ec0-0d4ad5a3bbfe\",\"type\":\"BasicTicker\"}},\"id\":\"13f5a8b3-f269-490e-8fc3-289ce812e0c7\",\"type\":\"Grid\"},{\"attributes\":{},\"id\":\"ee189068-e863-4032-8ec0-0d4ad5a3bbfe\",\"type\":\"BasicTicker\"},{\"attributes\":{\"below\":[{\"id\":\"a906b56a-9acf-4fb0-a63e-60b37991dfd0\",\"type\":\"LinearAxis\"}],\"left\":[{\"id\":\"9d39bfb9-96f1-4ca7-a30f-2d9f8efd9733\",\"type\":\"LinearAxis\"}],\"plot_height\":400,\"plot_width\":900,\"renderers\":[{\"id\":\"a906b56a-9acf-4fb0-a63e-60b37991dfd0\",\"type\":\"LinearAxis\"},{\"id\":\"13f5a8b3-f269-490e-8fc3-289ce812e0c7\",\"type\":\"Grid\"},{\"id\":\"9d39bfb9-96f1-4ca7-a30f-2d9f8efd9733\",\"type\":\"LinearAxis\"},{\"id\":\"de00e93b-9a69-482d-9617-4e78bf7f74eb\",\"type\":\"Grid\"},{\"id\":\"d691139e-879c-4682-9734-710f9a2acf4b\",\"type\":\"GlyphRenderer\"}],\"title\":{\"id\":\"d85432aa-0346-4dd1-9a14-cbd8819d2444\",\"type\":\"Title\"},\"toolbar\":{\"id\":\"1b214f81-04e4-4e76-a524-008cc6a49260\",\"type\":\"Toolbar\"},\"x_range\":{\"id\":\"957b99f8-fa9a-4fbc-aaed-93d6a9e730ba\",\"type\":\"DataRange1d\"},\"x_scale\":{\"id\":\"8b394028-fa7e-4381-80e9-9abdfb1f1697\",\"type\":\"LinearScale\"},\"y_range\":{\"id\":\"aa68adf6-b492-4bab-8d9a-1740ac8294e3\",\"type\":\"DataRange1d\"},\"y_scale\":{\"id\":\"ede6b977-51ca-494c-a085-de174d473069\",\"type\":\"LinearScale\"}},\"id\":\"89c73f7a-60eb-47c9-8651-5dbfb48fa97a\",\"subtype\":\"Figure\",\"type\":\"Plot\"},{\"attributes\":{\"callback\":null},\"id\":\"957b99f8-fa9a-4fbc-aaed-93d6a9e730ba\",\"type\":\"DataRange1d\"},{\"attributes\":{\"line_alpha\":{\"value\":0.1},\"line_color\":{\"value\":\"#1f77b4\"},\"x\":{\"field\":\"year\"},\"y\":{\"field\":\"PRCP\"}},\"id\":\"59355d5f-55d4-474d-af88-68d394cda172\",\"type\":\"Line\"},{\"attributes\":{},\"id\":\"5d26a619-58d8-4c2a-9238-86c685a3046c\",\"type\":\"BasicTicker\"},{\"attributes\":{\"line_color\":{\"value\":\"#1f77b4\"},\"x\":{\"field\":\"year\"},\"y\":{\"field\":\"PRCP\"}},\"id\":\"fead8e56-b36f-4dca-8c5f-572711125f60\",\"type\":\"Line\"},{\"attributes\":{},\"id\":\"8b394028-fa7e-4381-80e9-9abdfb1f1697\",\"type\":\"LinearScale\"}],\"root_ids\":[\"89c73f7a-60eb-47c9-8651-5dbfb48fa97a\"]},\"title\":\"Bokeh Application\",\"version\":\"0.12.10\"}};\n",
       "    var render_items = [{\"docid\":\"649a5858-3140-47b3-8c1c-d04840e8723c\",\"elementid\":\"c35f8189-2ee9-4092-b021-9177f1414dfd\",\"modelid\":\"89c73f7a-60eb-47c9-8651-5dbfb48fa97a\"}];\n",
       "\n",
       "    root.Bokeh.embed.embed_items(docs_json, render_items);\n",
       "  }\n",
       "\n",
       "  if (root.Bokeh !== undefined) {\n",
       "    embed_document(root);\n",
       "  } else {\n",
       "    var attempts = 0;\n",
       "    var timer = setInterval(function(root) {\n",
       "      if (root.Bokeh !== undefined) {\n",
       "        embed_document(root);\n",
       "        clearInterval(timer);\n",
       "      }\n",
       "      attempts++;\n",
       "      if (attempts > 100) {\n",
       "        console.log(\"Bokeh: ERROR: Unable to embed document because BokehJS library is missing\")\n",
       "        clearInterval(timer);\n",
       "      }\n",
       "    }, 10, root)\n",
       "  }\n",
       "})(window);"
      ],
      "application/vnd.bokehjs_exec.v0+json": ""
     },
     "metadata": {
      "application/vnd.bokehjs_exec.v0+json": {
       "id": "89c73f7a-60eb-47c9-8651-5dbfb48fa97a"
      }
     },
     "output_type": "display_data"
    },
    {
     "data": {
      "text/plain": [
       "<matplotlib.axes._subplots.AxesSubplot at 0x2750db2df98>"
      ]
     },
     "execution_count": 31,
     "metadata": {},
     "output_type": "execute_result"
    },
    {
     "data": {
      "image/png": "[encoded data removed]",
      "text/plain": [
       "<matplotlib.figure.Figure at 0x2750db2d6d8>"
      ]
     },
     "metadata": {},
     "output_type": "display_data"
    }
   ],
   "source": [
    "source = ColumnDataSource(data=rain_by_year_and_month)\n",
    "hover = HoverTool(tooltips=[\n",
    "    (\"Year\", \"@year\"),\n",
    "    (\"Month\",\"@month\"),\n",
    "    (\"PRCP\", \"@PRCP\")\n",
    "])\n",
    "p = figure(plot_width=900, plot_height=400, tools=[hover], title='Months with the most rain')\n",
    "p.xaxis.axis_label = 'Years'\n",
    "p.yaxis.axis_label = 'PRCP'\n",
    "p.title_location ='above'\n",
    "p.line(x='year', y='PRCP',source=source)\n",
    "show(p)\n",
    "\n",
    "rain_by_year_and_month.set_index(['year','month']).plot(figsize=(16,8), title='Months with highest rain in every year')"
   ]
  },
  {
   "cell_type": "code",
   "execution_count": 34,
   "metadata": {},
   "outputs": [
    {
     "data": {
      "text/plain": [
       "12    19\n",
       "11    19\n",
       "1     14\n",
       "3      6\n",
       "10     5\n",
       "2      4\n",
       "9      1\n",
       "4      1\n",
       "Name: month, dtype: int64"
      ]
     },
     "execution_count": 34,
     "metadata": {},
     "output_type": "execute_result"
    }
   ],
   "source": [
    "#December,November and January are the three months with the most rain\n",
    "rain_by_year_and_month.month.value_counts()"
   ]
  },
  {
   "cell_type": "code",
   "execution_count": 35,
   "metadata": {},
   "outputs": [],
   "source": [
    "#hottest months"
   ]
  },
  {
   "cell_type": "code",
   "execution_count": 36,
   "metadata": {},
   "outputs": [],
   "source": [
    "hottest_month = []"
   ]
  },
  {
   "cell_type": "code",
   "execution_count": 37,
   "metadata": {},
   "outputs": [],
   "source": [
    "for yr in range(1948,2017):\n",
    "    wanted = df[df.index.year == yr]\n",
    "    hottest_month.append(wanted.groupby(['year','month']).TMAX.sum().reset_index().sort_values(by='TMAX', ascending=False)[:1])"
   ]
  },
  {
   "cell_type": "code",
   "execution_count": 38,
   "metadata": {},
   "outputs": [],
   "source": [
    "hottest_by_month_and_year = pd.concat([x for x in hottest_month])"
   ]
  },
  {
   "cell_type": "code",
   "execution_count": 39,
   "metadata": {},
   "outputs": [
    {
     "data": {
      "text/html": [
       "<div>\n",
       "<style>\n",
       "    .dataframe thead tr:only-child th {\n",
       "        text-align: right;\n",
       "    }\n",
       "\n",
       "    .dataframe thead th {\n",
       "        text-align: left;\n",
       "    }\n",
       "\n",
       "    .dataframe tbody tr th {\n",
       "        vertical-align: top;\n",
       "    }\n",
       "</style>\n",
       "<table border=\"1\" class=\"dataframe\">\n",
       "  <thead>\n",
       "    <tr style=\"text-align: right;\">\n",
       "      <th></th>\n",
       "      <th>year</th>\n",
       "      <th>month</th>\n",
       "      <th>TMAX</th>\n",
       "    </tr>\n",
       "  </thead>\n",
       "  <tbody>\n",
       "    <tr>\n",
       "      <th>6</th>\n",
       "      <td>1954</td>\n",
       "      <td>7</td>\n",
       "      <td>2154</td>\n",
       "    </tr>\n",
       "    <tr>\n",
       "      <th>8</th>\n",
       "      <td>1957</td>\n",
       "      <td>9</td>\n",
       "      <td>2205</td>\n",
       "    </tr>\n",
       "    <tr>\n",
       "      <th>7</th>\n",
       "      <td>1955</td>\n",
       "      <td>8</td>\n",
       "      <td>2211</td>\n",
       "    </tr>\n",
       "    <tr>\n",
       "      <th>6</th>\n",
       "      <td>1964</td>\n",
       "      <td>7</td>\n",
       "      <td>2241</td>\n",
       "    </tr>\n",
       "    <tr>\n",
       "      <th>7</th>\n",
       "      <td>1953</td>\n",
       "      <td>8</td>\n",
       "      <td>2257</td>\n",
       "    </tr>\n",
       "    <tr>\n",
       "      <th>6</th>\n",
       "      <td>1948</td>\n",
       "      <td>7</td>\n",
       "      <td>2267</td>\n",
       "    </tr>\n",
       "    <tr>\n",
       "      <th>6</th>\n",
       "      <td>1980</td>\n",
       "      <td>7</td>\n",
       "      <td>2271</td>\n",
       "    </tr>\n",
       "    <tr>\n",
       "      <th>7</th>\n",
       "      <td>1999</td>\n",
       "      <td>8</td>\n",
       "      <td>2276</td>\n",
       "    </tr>\n",
       "    <tr>\n",
       "      <th>6</th>\n",
       "      <td>2000</td>\n",
       "      <td>7</td>\n",
       "      <td>2280</td>\n",
       "    </tr>\n",
       "    <tr>\n",
       "      <th>7</th>\n",
       "      <td>2001</td>\n",
       "      <td>8</td>\n",
       "      <td>2287</td>\n",
       "    </tr>\n",
       "  </tbody>\n",
       "</table>\n",
       "</div>"
      ],
      "text/plain": [
       "   year  month  TMAX\n",
       "6  1954      7  2154\n",
       "8  1957      9  2205\n",
       "7  1955      8  2211\n",
       "6  1964      7  2241\n",
       "7  1953      8  2257\n",
       "6  1948      7  2267\n",
       "6  1980      7  2271\n",
       "7  1999      8  2276\n",
       "6  2000      7  2280\n",
       "7  2001      8  2287"
      ]
     },
     "execution_count": 39,
     "metadata": {},
     "output_type": "execute_result"
    }
   ],
   "source": [
    "hottest_by_month_and_year.sort_values(by='TMAX')[:10]"
   ]
  },
  {
   "cell_type": "code",
   "execution_count": 40,
   "metadata": {},
   "outputs": [
    {
     "data": {
      "text/plain": [
       "<seaborn.axisgrid.PairGrid at 0x2750d9cc588>"
      ]
     },
     "execution_count": 40,
     "metadata": {},
     "output_type": "execute_result"
    },
    {
     "data": {
      "image/png": "[encoded data removed]",
      "text/plain": [
       "<matplotlib.figure.Figure at 0x2750c6326d8>"
      ]
     },
     "metadata": {},
     "output_type": "display_data"
    }
   ],
   "source": [
    "sns.pairplot(hottest_by_month_and_year.sort_values(by='TMAX'))"
   ]
  },
  {
   "cell_type": "code",
   "execution_count": 42,
   "metadata": {},
   "outputs": [],
   "source": [
    "month_mappings ={1:'Jan', 2:'Feb',3:'Mar', 4:'Apr',5:'May', 6:'Jun',7:'Jul',8:'Aug',9:'Sep', 10:'Oct',11:'Nov',\n",
    "    12:'Dec'}\n",
    "f = lambda x: month_mappings.get(x,x)\n",
    "hottest_by_month_and_year.month = hottest_by_month_and_year.month.apply(f)#July and August are the hottest month"
   ]
  },
  {
   "cell_type": "code",
   "execution_count": 43,
   "metadata": {},
   "outputs": [],
   "source": [
    "#which months were the hottest over the years"
   ]
  },
  {
   "cell_type": "code",
   "execution_count": 44,
   "metadata": {},
   "outputs": [
    {
     "data": {
      "text/plain": [
       "Jul    38\n",
       "Aug    30\n",
       "Sep     1\n",
       "Name: month, dtype: int64"
      ]
     },
     "execution_count": 44,
     "metadata": {},
     "output_type": "execute_result"
    }
   ],
   "source": [
    "hottest_by_month_and_year.month.value_counts()"
   ]
  },
  {
   "cell_type": "code",
   "execution_count": 87,
   "metadata": {},
   "outputs": [
    {
     "data": {
      "text/plain": [
       "<seaborn.axisgrid.PairGrid at 0x179605dfb38>"
      ]
     },
     "execution_count": 87,
     "metadata": {},
     "output_type": "execute_result"
    },
    {
     "data": {
      "image/png": "[encoded data removed]",
      "text/plain": [
       "<matplotlib.figure.Figure at 0x179605dfba8>"
      ]
     },
     "metadata": {},
     "output_type": "display_data"
    }
   ],
   "source": [
    "sns.pairplot(rain_by_year_and_month)"
   ]
  },
  {
   "cell_type": "code",
   "execution_count": null,
   "metadata": {},
   "outputs": [],
   "source": []
  },
  {
   "cell_type": "code",
   "execution_count": null,
   "metadata": {},
   "outputs": [],
   "source": []
  },
  {
   "cell_type": "code",
   "execution_count": null,
   "metadata": {},
   "outputs": [],
   "source": []
  },
  {
   "cell_type": "code",
   "execution_count": null,
   "metadata": {},
   "outputs": [],
   "source": []
  },
  {
   "cell_type": "code",
   "execution_count": null,
   "metadata": {},
   "outputs": [],
   "source": []
  },
  {
   "cell_type": "code",
   "execution_count": null,
   "metadata": {},
   "outputs": [],
   "source": []
  },
  {
   "cell_type": "code",
   "execution_count": null,
   "metadata": {},
   "outputs": [],
   "source": []
  }
 ],
 "metadata": {
  "kernelspec": {
   "display_name": "Python 3",
   "language": "python",
   "name": "python3"
  },
  "language_info": {
   "codemirror_mode": {
    "name": "ipython",
    "version": 3
   },
   "file_extension": ".py",
   "mimetype": "text/x-python",
   "name": "python",
   "nbconvert_exporter": "python",
   "pygments_lexer": "ipython3",
   "version": "3.5.0"
  }
 },
 "nbformat": 4,
 "nbformat_minor": 2
}
